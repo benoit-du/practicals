{
  "nbformat": 4,
  "nbformat_minor": 0,
  "metadata": {
    "colab": {
      "provenance": [],
      "authorship_tag": "ABX9TyPzlKJUIlmaTsyFq/mMSuuK",
      "include_colab_link": true
    },
    "kernelspec": {
      "name": "python3",
      "display_name": "Python 3"
    },
    "language_info": {
      "name": "python"
    }
  },
  "cells": [
    {
      "cell_type": "markdown",
      "metadata": {
        "id": "view-in-github",
        "colab_type": "text"
      },
      "source": [
        "<a href=\"https://colab.research.google.com/github/benoit-du/practicals/blob/main/scope_test.ipynb\" target=\"_parent\"><img src=\"https://colab.research.google.com/assets/colab-badge.svg\" alt=\"Open In Colab\"/></a>"
      ]
    },
    {
      "cell_type": "markdown",
      "source": [
        "**Variable Scope**\n",
        "\n",
        "Variable scope determines the visibility and lifetime of a variable within the code.\n",
        "\n",
        "Global Variables: Variables defined outside of any function or block have a global scope and can be accessed anywhere in the code after their declaration."
      ],
      "metadata": {
        "id": "qLtQfF5XnS3g"
      }
    },
    {
      "cell_type": "code",
      "source": [
        "x = 'global'\n",
        "\n",
        "def my_function():\n",
        "    print(x)  # Accessing the global variable\n",
        "\n",
        "my_function()  # Outputs: global\n"
      ],
      "metadata": {
        "colab": {
          "base_uri": "https://localhost:8080/"
        },
        "id": "ogbpScDSniHr",
        "outputId": "7dbf2d9d-5264-4c9f-d2f0-6a6650e3c41f"
      },
      "execution_count": 1,
      "outputs": [
        {
          "output_type": "stream",
          "name": "stdout",
          "text": [
            "global\n"
          ]
        }
      ]
    },
    {
      "cell_type": "markdown",
      "source": [
        "Local Variables: Variables defined within a function have a local scope and are only accessible within that function."
      ],
      "metadata": {
        "id": "CvT6eyzwnqxg"
      }
    },
    {
      "cell_type": "code",
      "source": [
        "def my_function():\n",
        "    y = 'local'\n",
        "    print(y)\n",
        "\n",
        "my_function()       # Outputs: local\n",
        "print(y)            # Raises NameError: name 'y' is not defined\n"
      ],
      "metadata": {
        "colab": {
          "base_uri": "https://localhost:8080/",
          "height": 193
        },
        "id": "aQy9VH6fnwzZ",
        "outputId": "ced2d535-0d42-4c80-91fe-a7a843a89f3b"
      },
      "execution_count": 2,
      "outputs": [
        {
          "output_type": "stream",
          "name": "stdout",
          "text": [
            "local\n"
          ]
        },
        {
          "output_type": "error",
          "ename": "NameError",
          "evalue": "name 'y' is not defined",
          "traceback": [
            "\u001b[0;31m---------------------------------------------------------------------------\u001b[0m",
            "\u001b[0;31mNameError\u001b[0m                                 Traceback (most recent call last)",
            "\u001b[0;32m<ipython-input-2-6cfeca63114d>\u001b[0m in \u001b[0;36m<cell line: 6>\u001b[0;34m()\u001b[0m\n\u001b[1;32m      4\u001b[0m \u001b[0;34m\u001b[0m\u001b[0m\n\u001b[1;32m      5\u001b[0m \u001b[0mmy_function\u001b[0m\u001b[0;34m(\u001b[0m\u001b[0;34m)\u001b[0m       \u001b[0;31m# Outputs: local\u001b[0m\u001b[0;34m\u001b[0m\u001b[0;34m\u001b[0m\u001b[0m\n\u001b[0;32m----> 6\u001b[0;31m \u001b[0mprint\u001b[0m\u001b[0;34m(\u001b[0m\u001b[0my\u001b[0m\u001b[0;34m)\u001b[0m            \u001b[0;31m# Raises NameError: name 'y' is not defined\u001b[0m\u001b[0;34m\u001b[0m\u001b[0;34m\u001b[0m\u001b[0m\n\u001b[0m",
            "\u001b[0;31mNameError\u001b[0m: name 'y' is not defined"
          ]
        }
      ]
    }
  ]
}