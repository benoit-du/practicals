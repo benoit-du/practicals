{
  "nbformat": 4,
  "nbformat_minor": 0,
  "metadata": {
    "colab": {
      "provenance": [],
      "toc_visible": true,
      "authorship_tag": "ABX9TyPP9yWA89LAztMvjyZnXSdW",
      "include_colab_link": true
    },
    "kernelspec": {
      "name": "python3",
      "display_name": "Python 3"
    },
    "language_info": {
      "name": "python"
    }
  },
  "cells": [
    {
      "cell_type": "markdown",
      "metadata": {
        "id": "view-in-github",
        "colab_type": "text"
      },
      "source": [
        "<a href=\"https://colab.research.google.com/github/benoit-du/practicals/blob/main/Foundations_practical_1.ipynb\" target=\"_parent\"><img src=\"https://colab.research.google.com/assets/colab-badge.svg\" alt=\"Open In Colab\"/></a>"
      ]
    },
    {
      "cell_type": "markdown",
      "source": [
        "Foundations for Python\n",
        "--\n",
        "\n",
        "The goal of this practical is to get you up to speed on basic concepts in Python, such as variables, lists, dictionaries, functions, libraries, and debugging. If you went through the suggested Datacamp modules, this will be an opportunity to consolidate these foundational concepts. If you did not go through the suggested Datacamp modules, this is your chance to familiarise yourself with these foundational concepts.\n",
        "\n",
        "**Before we begin:** Go to Tools >> Settings >> AI assistance, and tick \"hide generative AI features\".  \n",
        "\n",
        "---------------------"
      ],
      "metadata": {
        "id": "g9_bx0VdoOMw"
      }
    },
    {
      "cell_type": "markdown",
      "source": [
        "# Variables\n"
      ],
      "metadata": {
        "id": "F4HE5iXV1Rc8"
      }
    },
    {
      "cell_type": "markdown",
      "source": [
        "**Variables are containers that hold data.** Imagine them as labeled boxes where you can keep data. In programming, variables can hold different types of data, such as numbers or text.\n",
        "\n",
        "You decide how to name your variables; pick names that are informative. Variable names are case sensitive. To name variables using multiple words, you can use underscores as in `my_variable` (snake case), or a combination of lowercase and uppercase letters as in `myVariable` (camel case). Pick one of the two conventions and stay consistent.\n",
        "\n",
        "When you run code, the code is executed line by line starting from the top. In the example below, first the variable `age` is declared to have the value 25, then the variable `name` is declared to have the value 'Alice', then a statement is printed... Run the code below and see how the age of Alice changes as the code is executed."
      ],
      "metadata": {
        "id": "1Z9dy4Zm3hWA"
      }
    },
    {
      "cell_type": "code",
      "source": [
        "age = 25\n",
        "name = 'Alice'\n",
        "\n",
        "print(name, ' is ', age, ' years old.')\n",
        "\n",
        "one_more_year = 1\n",
        "\n",
        "age = age + one_more_year\n",
        "breakpoint()\n",
        "print(name, ' is now ', age, ' years old.')"
      ],
      "metadata": {
        "id": "urywCFDF2A3h"
      },
      "execution_count": null,
      "outputs": []
    },
    {
      "cell_type": "markdown",
      "source": [
        "In Python, you don't need to declare a variable **type** (i.e. whether it is a number, a string,...) you just assign a value to a variable name. This is because Python is **dynamically typed** as opposed to some programming languages such as C++ where the type of each variable must be explicitly declared in the code. Have a look at some common variable types below. Note that text preceded by # (in green below) is a **comment** and is not executed as code.\n"
      ],
      "metadata": {
        "id": "A4nWPpQ62yZK"
      }
    },
    {
      "cell_type": "code",
      "source": [
        "age = 25 # the variable \"age\" is of type \"integer\"\n",
        "name = 'Alice' # the variable \"name\" is of type \"string\", i.e. text enclosed in quotes\n",
        "is_student = True # the variable \"is_student\" is of type \"boolean\", i.e. True or False"
      ],
      "metadata": {
        "id": "Qa1OZ6bH4ORx"
      },
      "execution_count": null,
      "outputs": []
    },
    {
      "cell_type": "markdown",
      "source": [
        "Bob is 22. As an exercise, write code below to print a statement giving the sum of the ages of Bob and Alice. Hint: if you have run the code above, the variable `age` is already in memory. Assign the sum of the ages to a variable with the name of your choice and print it."
      ],
      "metadata": {
        "id": "4Xe5muw7DToS"
      }
    },
    {
      "cell_type": "code",
      "source": [
        "# your code below\n"
      ],
      "metadata": {
        "id": "9G77N4IbEBZh"
      },
      "execution_count": null,
      "outputs": []
    },
    {
      "cell_type": "markdown",
      "source": [
        "# Lists"
      ],
      "metadata": {
        "id": "efGvCLSN6ZMl"
      }
    },
    {
      "cell_type": "markdown",
      "source": [
        "**A list is an ordered collection of items**, which can be of different data types. Lists can be modified after creation (they are mutable). Lists are also called **arrays**."
      ],
      "metadata": {
        "id": "jSNiDQ9d8J1H"
      }
    },
    {
      "cell_type": "code",
      "source": [
        "fruits = ['apple', 'banana', 'cherry'] # List of strings\n",
        "numbers = [1, 2, 3, 4, 5]              # List of integers\n",
        "mixed = [1, 'apple', True, 3.14]       # Mixed data types"
      ],
      "metadata": {
        "id": "xpjksDnf-Wxi"
      },
      "execution_count": null,
      "outputs": []
    },
    {
      "cell_type": "markdown",
      "source": [
        "Each item in the list has an index (position), **starting from zero**. The index of the first element is 0, the index of the second element is 1,... So the index of an element is its position in the list minus one. In Python, the last element can be accessed by using -1 as the index.\n",
        "\n",
        "See examples below to access a list item use the list name followed by the index of the item between square brackets."
      ],
      "metadata": {
        "id": "KW0MSu_Z--Wy"
      }
    },
    {
      "cell_type": "code",
      "source": [
        "# Accessing list items\n",
        "first_fruit = fruits[0]\n",
        "second_number = numbers[1]\n",
        "third_mixed = mixed[2]\n",
        "\n",
        "# Printing their values\n",
        "print(first_fruit)  # Outputs: 'apple'\n",
        "print(second_number) # Outputs: 2\n",
        "print(third_mixed) # Outputs: True\n"
      ],
      "metadata": {
        "id": "ZBZs5lun_d8g"
      },
      "execution_count": null,
      "outputs": []
    },
    {
      "cell_type": "markdown",
      "source": [
        "As an exercise, write code below to assign to a variable of your choice the sum of the third element in `numbers` and the last element of `mixed`. Print the value of the variable."
      ],
      "metadata": {
        "id": "kxBLXK7zCVNF"
      }
    },
    {
      "cell_type": "code",
      "source": [
        "# your code below\n"
      ],
      "metadata": {
        "id": "iWKA06PICuLQ"
      },
      "execution_count": null,
      "outputs": []
    },
    {
      "cell_type": "markdown",
      "source": [
        "You might want to select only a subset of the elements of an array (as a reminder, this is just another name for a list). This is called array slicing and can be done using the syntax `list_name[start:stop:step]` with\n",
        "* `start`: The index where the subset starts (**inclusive**). Can be omitted if starting from the first index.\n",
        "* `stop`: The index where the subset ends (**exclusive**). Can be omitted if ending at the last index.\n",
        "* `step`: The step size or interval between elements in the subset. Can be omitted if the step is 1.\n",
        "\n",
        "A few examples:\n"
      ],
      "metadata": {
        "id": "FfgH1sthfaog"
      }
    },
    {
      "cell_type": "code",
      "source": [
        "numbers = [10, 20, 30, 40, 50, 60, 70]\n",
        "\n",
        "# Get elements from index 1 to 3 (20, 30, 40). Note the stop index is exclsive, while the start index is inclusive.\n",
        "subset_1 = numbers[1:4:1]\n",
        "print(subset_1)\n",
        "\n",
        "# We can do the same thing by omitting the step since it is 1\n",
        "subset_1 = numbers[1:4]\n",
        "print(subset_1)\n",
        "\n",
        "# Get the first four elements: we can omit the start index and the step\n",
        "subset_2 = numbers[:4]\n",
        "\n",
        "# Get elements from index 3 to the end: we can omit the stop index and the step\n",
        "subset_3 = numbers[3:]\n",
        "print(subset_3)\n"
      ],
      "metadata": {
        "id": "5hgdvL6Egofv"
      },
      "execution_count": null,
      "outputs": []
    },
    {
      "cell_type": "markdown",
      "source": [
        "# Dictionaries"
      ],
      "metadata": {
        "id": "Ii2Mv52l6c4y"
      }
    },
    {
      "cell_type": "markdown",
      "source": [
        "**A dictionary stores data in key-value pairs**, like a real-life dictionary where you have words (keys) and their definitions (values).  It's unordered and mutable (you can modify it after creation).\n",
        "\n",
        "Values in a dictionary are retrived by using the dictionary name followed by the key enclosed in square brackets - see the example below."
      ],
      "metadata": {
        "id": "dkLPHxfCAqNv"
      }
    },
    {
      "cell_type": "code",
      "source": [
        "# creating a dictionary\n",
        "student = {\n",
        "    'name': 'Alice', # key is 'name', value is 'Alice'\n",
        "    'age': 25,       # key is 'age', value is 25\n",
        "    'courses': ['Physiology', 'Statistics','Neuroscience'] # key is 'courses', value is ['Physiology', 'Statistics','Neuroscience']\n",
        "}\n",
        "\n",
        "# accessing values\n",
        "print(student['name'])  # Outputs: Alice\n",
        "print(student['age'])  # Outputs: 25"
      ],
      "metadata": {
        "id": "qV7StK4-A5kV"
      },
      "execution_count": null,
      "outputs": []
    },
    {
      "cell_type": "markdown",
      "source": [
        "As an exercise, assign the second course of Alice to a variable of your choice, and print its value. As an intermediate step, you may define a variable corresponding to all courses in the dictionary."
      ],
      "metadata": {
        "id": "qnQxlAnbBOz9"
      }
    },
    {
      "cell_type": "code",
      "source": [
        "# your code below\n"
      ],
      "metadata": {
        "id": "wgzscmBcBNrE"
      },
      "execution_count": null,
      "outputs": []
    },
    {
      "cell_type": "markdown",
      "source": [
        "# Functions and methods"
      ],
      "metadata": {
        "id": "szCSDGrE6oaD"
      }
    },
    {
      "cell_type": "markdown",
      "source": [
        "**Functions are reusable blocks of code that perform a specific task.** They help make your code organized and efficient by avoiding repetition of the same block of code. Functions can have inputs and outputs: they can accept input parameters to make them more flexible, and can also return outputs. But you can have functions without inputs or outputs.\n",
        "\n",
        "Functions are defined and called as shown below. Because Python scripts are executed line by line, a function must be defined before it is called."
      ],
      "metadata": {
        "id": "95lwpNuzERJA"
      }
    },
    {
      "cell_type": "code",
      "source": [
        "# function definition - here one input parameter and no output\n",
        "def greet(name):                  # def is the keyword to define a function, greet is the function name, and name is the input. Note the colon.\n",
        "    print('Hello, ' + name + '!') # the body of the function, here just a print statement\n",
        "\n",
        "# two function calls\n",
        "greet('Bob')   # Outputs: Hello, Bob!\n",
        "greet('Alice') # Outputs: Hello, Alice!\n",
        "\n",
        "# function definition - here one input parameter and one output\n",
        "def ciao(name):\n",
        "    greeting = 'Ciao, '+ name + '!'\n",
        "    return greeting\n",
        "\n",
        "# one function call with output assigned to a variable\n",
        "greeting = ciao('Alice')\n",
        "\n",
        "print(greeting) # Outputs: Ciao, Alice!\n"
      ],
      "metadata": {
        "id": "WwZIppcVEwGo"
      },
      "execution_count": null,
      "outputs": []
    },
    {
      "cell_type": "markdown",
      "source": [
        "The Fibonacci sequence is a sequence in which each number is the sum of the two preceding ones.\n",
        "As an exercise, define a function that gives the next number in the Fibonacci sequence. Hint: the function should take two inputs, and have one output. Call the function with 2 and 3 and display the output.\n",
        "\n"
      ],
      "metadata": {
        "id": "6nmjKFvTG5T7"
      }
    },
    {
      "cell_type": "code",
      "source": [
        "# your code below\n"
      ],
      "metadata": {
        "id": "A0ybhwxfGoiz"
      },
      "execution_count": null,
      "outputs": []
    },
    {
      "cell_type": "markdown",
      "source": [
        "**Methods** are functions associated with objects. All values in Python are objects, and the concept of objects underlies object-oriented programming (OOP), which we are not going to cover in this course. However you might need to call methods such as the method `append()` which appends an element to a list. So let's see how it is done."
      ],
      "metadata": {
        "id": "ianJ5My8AGgt"
      }
    },
    {
      "cell_type": "code",
      "source": [
        "fruits = ['apple', 'banana', 'cherry']\n",
        "fruits.append('orange') # fruits is now ['apple', 'banana', 'cherry', 'orange']\n",
        "\n",
        "print(fruits[-1]) # printing the last element of fruits, which is now 'orange'\n"
      ],
      "metadata": {
        "id": "uZcoKQzHAJ5J"
      },
      "execution_count": null,
      "outputs": []
    },
    {
      "cell_type": "markdown",
      "source": [
        "# Scope of variables"
      ],
      "metadata": {
        "id": "Vmz2ksUh6wFT"
      }
    },
    {
      "cell_type": "markdown",
      "source": [
        "**The scope of a variable determines where in the code the variable can be accessed.**\n",
        "\n",
        "Variables defined outside of any function or block have a **global scope** and can be accessed anywhere in the code after their declaration."
      ],
      "metadata": {
        "id": "7k9gOaCv46l1"
      }
    },
    {
      "cell_type": "code",
      "source": [
        "x = 'global'\n",
        "\n",
        "def my_function():\n",
        "    print(x)  # Accessing the global variable\n",
        "\n",
        "my_function()  # Outputs: global"
      ],
      "metadata": {
        "id": "OZ6KPOia67uw"
      },
      "execution_count": null,
      "outputs": []
    },
    {
      "cell_type": "markdown",
      "source": [
        "Variables defined within a function have a **local scope** and are only accessible within that function.\n"
      ],
      "metadata": {
        "id": "YnJW7o907C1m"
      }
    },
    {
      "cell_type": "code",
      "source": [
        "def my_function():\n",
        "    y = 'local'\n",
        "    print(y)\n",
        "\n",
        "my_function()       # Outputs: local\n",
        "print(y)            # Raises NameError: name 'y' is not defined"
      ],
      "metadata": {
        "id": "-M4y0uMV7IBK"
      },
      "execution_count": null,
      "outputs": []
    },
    {
      "cell_type": "markdown",
      "source": [
        "Make sure you understand the following. `name` declared inside the function (not an input here) is not the same as `name` outside the function. Here `name` is redefined as 'Bob' inside the function, but not outside the function."
      ],
      "metadata": {
        "id": "-UPkBzDbMU4T"
      }
    },
    {
      "cell_type": "code",
      "source": [
        "def greet(): # we can use 'name' here,\n",
        "    name = 'Bob'\n",
        "    print('Hello, ' + name + '!')\n",
        "\n",
        "name = 'Alice'\n",
        "greet()     # Outputs: Hello, Bob!\n",
        "print(name) # Outputs: Alice"
      ],
      "metadata": {
        "id": "Ua5v6HuGMZgN"
      },
      "execution_count": null,
      "outputs": []
    },
    {
      "cell_type": "markdown",
      "source": [
        "# Using libraries and plotting"
      ],
      "metadata": {
        "id": "uqOYPZlv92sb"
      }
    },
    {
      "cell_type": "markdown",
      "source": [
        "Python does not have many advanced maths and plotting functions. This is why we will need to use **libraries**. For example, **NumPy** is a fundamental library for numerical computations in Python. See below how NumPy is loaded, as well as an example of how the exponential function of NumPy can be called."
      ],
      "metadata": {
        "id": "dVG5_hGb_Y4B"
      }
    },
    {
      "cell_type": "code",
      "source": [
        "import numpy as np\n",
        "\n",
        "# Exponential function\n",
        "exp_value = np.exp(2) # note 'np.' which is used to call the exp() function included in NumPy"
      ],
      "metadata": {
        "id": "VlmhC8jh_FRN"
      },
      "execution_count": null,
      "outputs": []
    },
    {
      "cell_type": "markdown",
      "source": [
        "Matplotlib is a comprehensive library for creating beautiful plots. Have a look at the example below of a simple line plot."
      ],
      "metadata": {
        "id": "3EgNa-C3_kMe"
      }
    },
    {
      "cell_type": "code",
      "source": [
        "import matplotlib.pyplot as plt\n",
        "\n",
        "x = [1, 2, 3, 4] # creating a list for x\n",
        "y = [10, 20, 25, 30] # creating a list for y\n",
        "\n",
        "plt.plot(x, y) # line plot for x,y\n",
        "plt.xlabel('X-axis Label') # labelling the horizontal axis\n",
        "plt.ylabel('Y-axis Label') # labelling the vertical axis\n",
        "plt.title('Simple Line Plot') # giving a title to the plot\n",
        "plt.show() # showing the plot"
      ],
      "metadata": {
        "id": "Ju9uRk43_rKd"
      },
      "execution_count": null,
      "outputs": []
    },
    {
      "cell_type": "markdown",
      "source": [
        "Histograms are an important tool in statistics to show the distribution of data, let's see how you can plot one."
      ],
      "metadata": {
        "id": "X0yYPLwcrflQ"
      }
    },
    {
      "cell_type": "code",
      "source": [
        "data = np.random.randn(10000) # 10000 normal random numbers\n",
        "\n",
        "plt.hist(data, bins=30) # histogram plot of 'data' with 30 bins\n",
        "plt.xlabel('Value')\n",
        "plt.ylabel('Frequency')\n",
        "plt.title('Histogram')\n",
        "plt.show()"
      ],
      "metadata": {
        "id": "CGxlnWvnrgVp"
      },
      "execution_count": null,
      "outputs": []
    },
    {
      "cell_type": "markdown",
      "source": [
        "# Debugging"
      ],
      "metadata": {
        "id": "toP_lSXcNDLh"
      }
    },
    {
      "cell_type": "markdown",
      "source": [
        "**Code is unforgiving - when you press run for the first time on a new piece of code, it typically does not work.** Thankfully we get a lot of help in the debugging process from error messages, as well as internet resources. These include the official documentation of Python and its libraries, websites such as stack overflow, and large language models such as ChatGPT. **Do read error messages. They indicate the type of error and its location. If you don't understand them, copy paste them into Google for more insights.** Fixing errors is a very important skill that you should learn as soon as you start coding. Let's look at the most common types of errors.\n",
        "\n",
        "1) **Syntax Errors**: These occur when your code does not follow Python's syntax, i.e. the rules of the Python language. These errors are caught before code is executed. Run the code below: the error message actually tells you what the problem is. Then fix the syntax error and re-run the code."
      ],
      "metadata": {
        "id": "uQz4Lo2oNHG2"
      }
    },
    {
      "cell_type": "code",
      "source": [
        "def func()\n",
        "    print('Syntax error fixed')"
      ],
      "metadata": {
        "id": "QuAAXBIROul3"
      },
      "execution_count": null,
      "outputs": []
    },
    {
      "cell_type": "markdown",
      "source": [
        "2) **Runtime Errors**: They happen when the program is executing, and encounters a condition that prevents it from continuing, such as\n",
        "* division by zero (ZeroDivisionError),\n",
        "* attempting to access an element of a list using an index that is out of range (IndexError),\n",
        "* encountering a variable or a function that is not defined in the current scope (NameError)\n",
        "* attempting to perform an operation on the wrong datatype, e.g. trying to take the exponential of a string (TypeError).\n",
        "* ...\n",
        "\n",
        "See an example of IndexError below - run the code and see how the error message explains what the error is and where it happens in the code. Then fix the error and re-run the code."
      ],
      "metadata": {
        "id": "o4qERpgbcSjO"
      }
    },
    {
      "cell_type": "code",
      "source": [
        "fruits = ['apple', 'banana', 'cherry']\n",
        "cherry_variable = fruits[3]\n",
        "print(cherry_variable)"
      ],
      "metadata": {
        "id": "CNeHFSzlc2No"
      },
      "execution_count": null,
      "outputs": []
    },
    {
      "cell_type": "markdown",
      "source": [
        "3) **Logical Errors**: These occur when your code runs all the way through without throwing any error, but gives erroneous results due to flawed logic in the code. For example, you were supposed to plot x vs y, but your code plots instead y vs x. To reduce the likelihood of logical errors in your code, test your code in situations where you know what the output should be."
      ],
      "metadata": {
        "id": "Ua1xD2wmcRbL"
      }
    },
    {
      "cell_type": "markdown",
      "source": [
        "Other debugging tools to consider\n",
        "* Using print statements to display variable values at strategic points in the code.\n",
        "* Commenting out code sections to isolate parts of code to find the problematic area.\n",
        "* Integrated development environments (IDEs) such as Spyder have debuggers that allow you to stop the code at any point, execute the code line by line, and inspect the values of variables in scope.\n",
        "\n",
        "**Remember: there is no error that debugging can't solve - read error messages and use Google if you need additional information on the error.**\n",
        "\n",
        "--------------------------"
      ],
      "metadata": {
        "id": "kcplIxBP1Gqg"
      }
    },
    {
      "cell_type": "markdown",
      "source": [
        "Congratulations on completing this practical! You have built strong foundations for further learning.\n",
        "\n"
      ],
      "metadata": {
        "id": "oIhOFgLd-Z-l"
      }
    }
  ]
}